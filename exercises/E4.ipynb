{
 "cells": [
  {
   "cell_type": "markdown",
   "metadata": {},
   "source": [
    "Q1.a)\n",
    "$X$~$Bernouli(\\mu)\n",
    "\\\\\n",
    "p(X|\\mu)=\\displaystyle\\prod_{i=0}^{1} \\mu^{x_i}(1-\\mu)^{1-{x_i}}\n",
    "\\\\\n",
    "=\\frac{\\mathrm{d}}{\\mathrm{d}\\mu} p(X|\\mu)=\\mathrm{\\mu}^0 (1-\\mu)^{1-0} + \\mu^1 (1-\\mu)^{1-1}\n",
    "\\\\\n",
    "=\\frac {\\mathrm{d}} {\\mathrm{d}\\mu} (1-\\mu)\\mu = -2\\mu+1\n",
    "\\\\\n",
    "\\iff -2\\mu_{ML} +1 =0\n",
    "\\\\\n",
    "\\iff \\mu_{ML}=0,5$\n",
    "\n",
    "\n",
    "b)\n",
    "$X$~$Binomial(\\mu,N=20)\n",
    "\\\\\n",
    "P(4|\\mu,20)= \\left(\\! \\begin{array}{c} 20\\\\4 \\end{array}\\!\\right) \\mu^4 (1-\\mu)^{16}\n",
    "\\\\\n",
    "\\frac {\\mathrm{d}} {\\mathrm{d}\\mu} p(4|\\mu,20) = \\frac {\\mathrm{d}} {\\mathrm{d}\\mu} \\left(\\! \\begin{array}{c} 20\\\\4 \\end{array}\\!\\right) \\mu^4 (1-\\mu)^{16} \n",
    "\\\\\n",
    "= \\left(\\! \\begin{array}{c} 20\\\\4 \\end{array}\\!\\right) \\Big( 4\\mu^3 (1-\\mu)^{16} - 16\\mu^4 (1-\\mu)^{15} \\Big)\n",
    "\\\\\n",
    "= \\left(\\! \\begin{array}{c} 20\\\\4 \\end{array}\\!\\right) 4\\mu^3 (1-\\mu)^{15} \\Big( (1-\\mu) - 4\\mu \\Big) \n",
    "\\\\\n",
    "\\iff \\left(\\! \\begin{array}{c} 20\\\\4 \\end{array}\\!\\right) 4\\mu_{ML}^3 (1-\\mu_{ML})^{15} \\Big( (1-\\mu_{ML}) - 4\\mu_{ML} \\Big) =0\n",
    "\\\\\n",
    "\\iff \\mu_{ML}=0 \\lor \\mu_{ML}=1 \\lor \\mu_{ML}=0,2\n",
    "\\\\\n",
    "\\mu_{ML} = 0,2$\n",
    "\n",
    "\n",
    "c)\n",
    "$K$~$Poisson(\\lambda)\n",
    "\\\\\n",
    "\\frac {\\mathrm{d}} {\\mathrm{d}\\lambda} p(K|\\lambda) = \\frac {\\mathrm{d}} {\\mathrm{d}\\lambda} \\frac {\\lambda^K} {K!} e^{-\\lambda} = \\frac {K \\lambda^{K-1}} {K!} e^{-\\lambda} - \\frac {\\lambda^K} {K!} e^{-\\lambda}\n",
    "\\\\\n",
    "= \\frac {e^{-\\lambda}} {K!} ( K\\lambda^{K-1} - {\\lambda^K} ) = \\frac{e^{-\\lambda} \\lambda^{K-1}} {K!} (K-\\lambda)\n",
    "\\\\\n",
    "\\iff \\frac {e^{-\\lambda_{ML}}} {K!} ( K\\lambda_{ML}^{K-1} - {\\lambda_{ML}^K} ) = \\frac{e^{-\\lambda_{ML}} \\lambda_{ML}^{K-1}} {K!} (K-\\lambda_{ML}) =0\n",
    "\\\\\n",
    "\\iff K \\to \\infty \\lor K=\\lambda_{ML}\n",
    "\\\\\n",
    "\\lambda_{ML} = K$"
   ]
  }
 ],
 "metadata": {
  "kernelspec": {
   "display_name": "Python 3",
   "language": "python",
   "name": "python3"
  },
  "language_info": {
   "codemirror_mode": {
    "name": "ipython",
    "version": 3
   },
   "file_extension": ".py",
   "mimetype": "text/x-python",
   "name": "python",
   "nbconvert_exporter": "python",
   "pygments_lexer": "ipython3",
   "version": "3.6.3"
  }
 },
 "nbformat": 4,
 "nbformat_minor": 2
}
