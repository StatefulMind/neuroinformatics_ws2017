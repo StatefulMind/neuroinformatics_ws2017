{
 "cells": [
  {
   "cell_type": "markdown",
   "metadata": {},
   "source": [
    "# Exercise 1 Neuroinfo\n",
    "\n",
    "Instructions: (10 points) Solve the following problems. Write clearly and use same symbols as used in the\n",
    "lecture. Add comments, explanations or questions to your solution if necessary.\n",
    "Solutions to exercises 1 and 2 are to be submitted as physical copies in groups of three to four. Please label\n",
    "each page you hand in clearly and carefully with the name of each group member and their student ID.\n",
    "Deadline for this exercise sheet is: 10.11.2017\n",
    "\n",
    "## 1. \n",
    "A bag contains 15 balls distinguishable only by their colours; 10 are blue and 5 are red. You reach into the bag with both hands and pull out 2 balls (one with each hand, at once) and record their colours.\n",
    "Let’s assume you always pick a ball with the left hand first and probabilities to pick each individual ball are uniform (i.e. 1/15 for the first draw.)\n",
    "\n",
    "(a) What is the random variable?\n",
    "\n",
    "(b) What is the sample space?\n",
    "\n",
    "(c) Express the event that the ball in my left hand is red as a subset of the sample space.\n",
    "\n",
    "(d) What is the probability for the event that the ball in my left hand is red?\n",
    "\n",
    "(e) What is the probability for the event that exactly one of the two balls i drew is blue?\n",
    "\n",
    "## 2.\n",
    "You want to know how probable it is for you to meet a student from a different field of study and expand\n",
    "your horizons in a bar you and your Cognitive Science friend like to visit. However, you feel it would\n",
    "be awkward to walk around the Schloss and ask strangers where they spend their nights. So instead\n",
    "you decide to infer this using the sum and product rule of probability. A very representative inquiry\n",
    "among your Coxi-friends tells you that about 70% of all Coxis seem to frequent the bar. Since the bar\n",
    "is rather small, you know that in total (at most) 6% of all students frequent the bar. Let’s assume that\n",
    "there are roughly 650 enrolled Cognitive Science students and a total of about 13000 enrolled students\n",
    "at Osnabrück University.\n",
    "\n",
    "(a) What’s the joint probability that a random student is a Coxi and frequents your favourite bar?\n",
    "\n",
    "(b) What’s the joint probability that a random student is not a Coxi and frequents your favourite\n",
    "bar?\n",
    "\n",
    "(c) What’s the conditional probability that, if they are not a Coxi, they frequent you favourite bar?\n",
    "\n",
    "(d) What’s the probability at least one of the first ten people you see at the bar is not a Cognitive\n",
    "Science student?"
   ]
  },
  {
   "cell_type": "code",
   "execution_count": null,
   "metadata": {
    "collapsed": true
   },
   "outputs": [],
   "source": []
  },
  {
   "cell_type": "code",
   "execution_count": null,
   "metadata": {
    "collapsed": true
   },
   "outputs": [],
   "source": []
  }
 ],
 "metadata": {
  "kernelspec": {
   "display_name": "Python 3",
   "language": "python",
   "name": "python3"
  },
  "language_info": {
   "codemirror_mode": {
    "name": "ipython",
    "version": 3
   },
   "file_extension": ".py",
   "mimetype": "text/x-python",
   "name": "python",
   "nbconvert_exporter": "python",
   "pygments_lexer": "ipython3",
   "version": "3.6.3"
  }
 },
 "nbformat": 4,
 "nbformat_minor": 2
}
