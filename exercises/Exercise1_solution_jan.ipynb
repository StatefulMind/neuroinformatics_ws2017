{
 "cells": [
  {
   "cell_type": "markdown",
   "metadata": {},
   "source": [
    "# Exercise 1 Neuroinfo\n",
    "\n",
    "Instructions: (10 points) Solve the following problems. Write clearly and use same symbols as used in the\n",
    "lecture. Add comments, explanations or questions to your solution if necessary.\n",
    "Solutions to exercises 1 and 2 are to be submitted as physical copies in groups of three to four. Please label\n",
    "each page you hand in clearly and carefully with the name of each group member and their student ID.\n",
    "Deadline for this exercise sheet is: 10.11.2017\n",
    "\n",
    "## 1. \n",
    "A bag contains 15 balls distinguishable only by their colours; 10 are blue and 5 are red. You reach into the bag with both hands and pull out 2 balls (one with each hand, at once) and record their colours.\n",
    "Let’s assume you always pick a ball with the left hand first and probabilities to pick each individual ball are uniform (i.e. 1/15 for the first draw.)\n",
    "\n",
    "(a) What is the random variable?\n",
    "    ?The random variable is the colour of the balls which are drawn\n",
    "\n",
    "(b) What is the sample space?\n",
    "    The sample space contains all possible combinations, that is {(red, red), (red, blue), (blue, red), (blue, blue)}\n",
    "\n",
    "(c) Express the event that the ball in my left hand is red as a subset of the sample space.\n",
    "    For this, all combinations where a red ball in my hand have to be considered: {(red, red), (red, blue)}\n",
    "\n",
    "(d) What is the probability for the event that the ball in my left hand is red?\n",
    "    $p(red, X) = p(red, blue) + p(red, red) = 5/15 = 1/3$\n",
    "\n",
    "(e) What is the probability for the event that exactly one of the two balls i drew is blue?\n",
    "    $1 - (p(blue, blue) + p(red, red)) = 1 - (10/15*9/14 + 5/15*4/14) = 10/21$\n",
    "\n",
    "## 2.\n",
    "You want to know how probable it is for you to meet a student from a different field of study and expand\n",
    "your horizons in a bar you and your Cognitive Science friend like to visit. However, you feel it would\n",
    "be awkward to walk around the Schloss and ask strangers where they spend their nights. So instead\n",
    "you decide to infer this using the sum and product rule of probability. A very representative inquiry\n",
    "among your Coxi-friends tells you that about 70% of all Coxis seem to frequent the bar. Since the bar\n",
    "is rather small, you know that in total (at most) 6% of all students frequent the bar. Let’s assume that\n",
    "there are roughly 650 enrolled Cognitive Science students and a total of about 13000 enrolled students\n",
    "at Osnabrück University.\n",
    "\n",
    "bar = someone frequents the bar\n",
    "coxi = someone is a coxi\n",
    "!X = something is not X\n",
    "\n",
    "Given:\n",
    "p(bar|coxi) = 0.7\n",
    "\n",
    "p(!bar|coxi)  = 0.3\n",
    "\n",
    "p(bar) = 0.06\n",
    "\n",
    "p(!bar) = 1-p(bar)\n",
    "\n",
    "p(coxi) = 650/13000 = 0.05\n",
    "\n",
    "p(!coxi) = 1-p(coxi) = 0.95\n",
    "\n",
    "\n",
    "(a) What’s the joint probability that a random student is a Coxi and frequents your favourite bar?\n",
    "$p(bar, coxi) = p(bar|coxi)*p(coxi) = 0.7*0.05 = 0.035$\n",
    "\n",
    "(b) What’s the joint probability that a random student is not a Coxi and frequents your favourite\n",
    "bar?\n",
    "\n",
    "Even better: p(bar) = p(bar, coxi) + p(bar, !coxi) = 0.06 --> p(bar, !coxi) = 0.06 - p(bar, coxi) = 0.06 - 0.035 = 0.025\n",
    "\n",
    "It is $p(!coxi|bar) = 1 - p(coxi|bar) = 1 - (p(coxi, bar)/p(bar)) = 1 - \\frac{0.035}{0.06} = 0.41666...$\n",
    "$p(!coxi, bar) = p(!coxi|bar)*p(bar) = (1-p(coxi|bar))*p(bar) = \\frac{(1 - p(coxi,bar)}{p(bar))}*p(bar) = (1 - \\frac{0.035}{0.06}) * 0.06 = 0.025$\n",
    "\n",
    "\n",
    "(c) What’s the conditional probability that, if they are not a Coxi, they frequent you favourite bar?\n",
    "$p(bar|!coxi) = \\frac{p(bar, !coxi)}{p(!coxi)} = \\frac{0.025}{0.95} \\approx{ 0.0263}$\n",
    "\n",
    "(d) What’s the probability at least one of the first ten people you see at the bar is not a Cognitive\n",
    "Science student?\n",
    "This is the same as the converse probability of meeting only Cognitive Science students. We have consider that we cannot see the same person twice in the \"first 10 persons you see\", so the probabilty decreases with every Cognitive Science student we see.\n",
    "\n",
    "$p(coxi|bar) = p(coxi, bar)/p(bar) = p(bar|coxi)*p(coxi)/p(bar)$\n",
    "\n",
    "Therefore, we calculate $1 - \\prod_{i=0}^{9} p(bar|coxi)*((650-i)/(13000-i))/p(bar) = 1 - \\prod_{i=0}^{9} 0.7 * ((650-i)/(13000-i))/0.06 = 0.99573$\n",
    "\n",
    "If one did not consider the changing probability of seeing a Coxi at the bar, we could also do the following: $1 - p(coxi|bar)^{10} = 1 - (p(coxi,bar)/p(bar))^{10} = 1 - (0.035/0.06)^{10} = 0.995438$"
   ]
  },
  {
   "cell_type": "code",
   "execution_count": null,
   "metadata": {
    "collapsed": true
   },
   "outputs": [],
   "source": []
  },
  {
   "cell_type": "code",
   "execution_count": null,
   "metadata": {
    "collapsed": true
   },
   "outputs": [],
   "source": []
  },
  {
   "cell_type": "code",
   "execution_count": null,
   "metadata": {
    "collapsed": true
   },
   "outputs": [],
   "source": []
  }
 ],
 "metadata": {
  "kernelspec": {
   "display_name": "Python 3",
   "language": "python",
   "name": "python3"
  },
  "language_info": {
   "codemirror_mode": {
    "name": "ipython",
    "version": 3
   },
   "file_extension": ".py",
   "mimetype": "text/x-python",
   "name": "python",
   "nbconvert_exporter": "python",
   "pygments_lexer": "ipython3",
   "version": "3.6.3"
  }
 },
 "nbformat": 4,
 "nbformat_minor": 2
}
